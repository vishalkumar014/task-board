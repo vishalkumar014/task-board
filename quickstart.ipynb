{
  "cells": [
    {
      "cell_type": "markdown",
      "metadata": {
        "id": "view-in-github",
        "colab_type": "text"
      },
      "source": [
        "<a href=\"https://colab.research.google.com/github/vishalkumar014/task-board/blob/main/quickstart.ipynb\" target=\"_parent\"><img src=\"https://colab.research.google.com/assets/colab-badge.svg\" alt=\"Open In Colab\"/></a>"
      ]
    },
    {
      "cell_type": "markdown",
      "id": "f2e00a27-64ef-4431-967e-940768fda8fa",
      "metadata": {
        "id": "f2e00a27-64ef-4431-967e-940768fda8fa"
      },
      "source": [
        "# Getting started with Mistral AI API"
      ]
    },
    {
      "cell_type": "code",
      "execution_count": 52,
      "id": "e0eb939e-a7e6-42d9-a7ce-c61444c5dc62",
      "metadata": {
        "id": "e0eb939e-a7e6-42d9-a7ce-c61444c5dc62"
      },
      "outputs": [],
      "source": [
        "! pip install -q mistralai"
      ]
    },
    {
      "cell_type": "code",
      "execution_count": 53,
      "id": "2868793c-9065-459a-9a8e-214c31b98f1d",
      "metadata": {
        "id": "2868793c-9065-459a-9a8e-214c31b98f1d"
      },
      "outputs": [],
      "source": [
        "import os\n",
        "from mistralai import Mistral\n",
        "api_key = 'ZMNIE55XjboSZRUzEfKfgr2YMjRWf7nX'"
      ]
    },
    {
      "cell_type": "markdown",
      "source": [
        "###Code with file upload\n"
      ],
      "metadata": {
        "id": "uMQ3vAcqUJSQ"
      },
      "id": "uMQ3vAcqUJSQ"
    },
    {
      "cell_type": "code",
      "source": [
        "image_path = \"/content/Resume.pdf\"\n",
        "client = Mistral(api_key=api_key)\n",
        "uploaded_pdf = client.files.upload(\n",
        "    file={\n",
        "        \"file_name\": \"uploaded_file.pdf\",\n",
        "        \"content\": open(image_path, \"rb\"),\n",
        "    },\n",
        "    purpose=\"ocr\"\n",
        ")"
      ],
      "metadata": {
        "id": "YiLrgXAmQGLc"
      },
      "id": "YiLrgXAmQGLc",
      "execution_count": 120,
      "outputs": []
    },
    {
      "cell_type": "code",
      "source": [
        "client.files.retrieve(file_id=uploaded_pdf.id)\n",
        "signed_url = client.files.get_signed_url(file_id=uploaded_pdf.id)"
      ],
      "metadata": {
        "id": "gpJhAqsSQths"
      },
      "id": "gpJhAqsSQths",
      "execution_count": 121,
      "outputs": []
    },
    {
      "cell_type": "code",
      "source": [
        "messages = [\n",
        "    {\n",
        "        \"role\": \"user\",\n",
        "        \"content\": [\n",
        "            {\n",
        "                \"type\": \"text\",\n",
        "                \"text\": \"what is the name in the document Return the name in short JSON object.\"\n",
        "            },\n",
        "            {\n",
        "                \"type\": \"document_url\",\n",
        "                \"document_url\":  signed_url.url\n",
        "            }\n",
        "        ]\n",
        "    }\n",
        "]"
      ],
      "metadata": {
        "id": "VYpmoTXeQ-ct"
      },
      "id": "VYpmoTXeQ-ct",
      "execution_count": 122,
      "outputs": []
    },
    {
      "cell_type": "code",
      "source": [
        "chat_response = client.chat.complete(\n",
        "    model=model,\n",
        "    messages=messages,\n",
        "    response_format = {\n",
        "          \"type\": \"json_object\",\n",
        "      }\n",
        ")\n",
        "print(chat_response.choices[0].message.content)"
      ],
      "metadata": {
        "id": "LrGKv58jR-z-",
        "outputId": "234e6c69-b18b-4477-d9ef-d7f9bc9c7830",
        "colab": {
          "base_uri": "https://localhost:8080/"
        }
      },
      "id": "LrGKv58jR-z-",
      "execution_count": 123,
      "outputs": [
        {
          "output_type": "stream",
          "name": "stdout",
          "text": [
            "{\n",
            "  \"name\": \"Vishal Kumar\"\n",
            "}\n"
          ]
        }
      ]
    },
    {
      "cell_type": "markdown",
      "source": [
        "###Without file upload"
      ],
      "metadata": {
        "id": "CWQH8jEwTIDZ"
      },
      "id": "CWQH8jEwTIDZ"
    },
    {
      "cell_type": "code",
      "source": [
        "import base64\n",
        "import requests\n",
        "\n",
        "def encode_image(image_path):\n",
        "    \"\"\"Encode the image to base64.\"\"\"\n",
        "    try:\n",
        "        with open(image_path, \"rb\") as image_file:\n",
        "            return base64.b64encode(image_file.read()).decode('utf-8')\n",
        "    except FileNotFoundError:\n",
        "        print(f\"Error: The file {image_path} was not found.\")\n",
        "        return None\n",
        "    except Exception as e:  # Added general exception handling\n",
        "        print(f\"Error: {e}\")\n",
        "        return None\n",
        "\n",
        "image_path = \"/content/Resume.pdf\"\n",
        "base64_image = encode_image(image_path)"
      ],
      "metadata": {
        "id": "nzDhupKKSY6O"
      },
      "id": "nzDhupKKSY6O",
      "execution_count": 112,
      "outputs": []
    },
    {
      "cell_type": "code",
      "source": [
        "ocr_response = client.ocr.process(\n",
        "    model=\"mistral-ocr-latest\",\n",
        "    document={\n",
        "        \"type\": \"document_url\",\n",
        "        \"document_url\": f\"data:application/pdf;base64,{base64_image}\"\n",
        "    }\n",
        ")\n"
      ],
      "metadata": {
        "id": "7fLZI0GQSkmZ"
      },
      "id": "7fLZI0GQSkmZ",
      "execution_count": 113,
      "outputs": []
    },
    {
      "cell_type": "code",
      "source": [
        "messages = [\n",
        "    {\n",
        "        \"role\": \"user\",\n",
        "        \"content\": [\n",
        "            {\n",
        "                \"type\": \"text\",\n",
        "                \"text\": \"\"\" what is the name in the document Return the name in short JSON object.\n",
        "                  {ocr_response}\n",
        "                \"\"\".format(ocr_response = ocr_response)\n",
        "            },\n",
        "        ]\n",
        "    }\n",
        "]"
      ],
      "metadata": {
        "id": "BP_cEGj4WbQD"
      },
      "id": "BP_cEGj4WbQD",
      "execution_count": 117,
      "outputs": []
    },
    {
      "cell_type": "code",
      "source": [
        "chat_response = client.chat.complete(\n",
        "    model=model,\n",
        "    messages=messages,\n",
        "    response_format = {\n",
        "          \"type\": \"json_object\",\n",
        "      }\n",
        ")"
      ],
      "metadata": {
        "id": "ldRQBI6IWk3c"
      },
      "id": "ldRQBI6IWk3c",
      "execution_count": 118,
      "outputs": []
    },
    {
      "cell_type": "code",
      "source": [
        "print(chat_response.choices[0].message.content)"
      ],
      "metadata": {
        "id": "Gk82KGgcXnyl",
        "outputId": "ea7cf2ab-6fb1-4745-8e6e-a8da4d18fd07",
        "colab": {
          "base_uri": "https://localhost:8080/"
        }
      },
      "id": "Gk82KGgcXnyl",
      "execution_count": 119,
      "outputs": [
        {
          "output_type": "stream",
          "name": "stdout",
          "text": [
            "{\"name\": \"Vishal kumar\"}\n"
          ]
        }
      ]
    }
  ],
  "metadata": {
    "colab": {
      "provenance": [],
      "include_colab_link": true
    },
    "kernelspec": {
      "display_name": "Python 3 (ipykernel)",
      "language": "python",
      "name": "python3"
    },
    "language_info": {
      "codemirror_mode": {
        "name": "ipython",
        "version": 3
      },
      "file_extension": ".py",
      "mimetype": "text/x-python",
      "name": "python",
      "nbconvert_exporter": "python",
      "pygments_lexer": "ipython3",
      "version": "3.11.8"
    }
  },
  "nbformat": 4,
  "nbformat_minor": 5
}